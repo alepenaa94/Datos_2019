{
 "cells": [
  {
   "cell_type": "markdown",
   "metadata": {},
   "source": [
    "# Limpieza Clicks\n"
   ]
  },
  {
   "cell_type": "markdown",
   "metadata": {},
   "source": [
    "En este notebook se busca realizar una limpieza de informacion del clicks.csv, buscamos que los tipos de variables sean considerados correctamente o de la mejor forma posible y se busca que datos son o no relevantes\n",
    "\n",
    "- [Uso_de_limpieza](#Uso_de_limpieza)"
   ]
  },
  {
   "cell_type": "code",
   "execution_count": 1,
   "metadata": {},
   "outputs": [],
   "source": [
    "import pandas as pd\n",
    "import numpy as np\n",
    "\n",
    "import warnings\n",
    "warnings.filterwarnings('ignore')"
   ]
  },
  {
   "cell_type": "code",
   "execution_count": 2,
   "metadata": {},
   "outputs": [],
   "source": [
    "clicks = pd.read_csv('../Data/clicks.csv.gzip', compression = 'gzip')"
   ]
  },
  {
   "cell_type": "code",
   "execution_count": 3,
   "metadata": {},
   "outputs": [
    {
     "data": {
      "text/html": [
       "<div>\n",
       "<style scoped>\n",
       "    .dataframe tbody tr th:only-of-type {\n",
       "        vertical-align: middle;\n",
       "    }\n",
       "\n",
       "    .dataframe tbody tr th {\n",
       "        vertical-align: top;\n",
       "    }\n",
       "\n",
       "    .dataframe thead th {\n",
       "        text-align: right;\n",
       "    }\n",
       "</style>\n",
       "<table border=\"1\" class=\"dataframe\">\n",
       "  <thead>\n",
       "    <tr style=\"text-align: right;\">\n",
       "      <th></th>\n",
       "      <th>advertiser_id</th>\n",
       "      <th>action_id</th>\n",
       "      <th>source_id</th>\n",
       "      <th>created</th>\n",
       "      <th>country_code</th>\n",
       "      <th>latitude</th>\n",
       "      <th>longitude</th>\n",
       "      <th>wifi_connection</th>\n",
       "      <th>carrier_id</th>\n",
       "      <th>trans_id</th>\n",
       "      <th>os_minor</th>\n",
       "      <th>agent_device</th>\n",
       "      <th>os_major</th>\n",
       "      <th>specs_brand</th>\n",
       "      <th>brand</th>\n",
       "      <th>timeToClick</th>\n",
       "      <th>touchX</th>\n",
       "      <th>touchY</th>\n",
       "      <th>ref_type</th>\n",
       "      <th>ref_hash</th>\n",
       "    </tr>\n",
       "  </thead>\n",
       "  <tbody>\n",
       "    <tr>\n",
       "      <th>0</th>\n",
       "      <td>2</td>\n",
       "      <td>NaN</td>\n",
       "      <td>4</td>\n",
       "      <td>2019-03-06T22:42:12.755Z</td>\n",
       "      <td>6333597102633388268</td>\n",
       "      <td>1.205689</td>\n",
       "      <td>1.070234</td>\n",
       "      <td>False</td>\n",
       "      <td>1.0</td>\n",
       "      <td>iGgClCM9exiHF4K31g94XmvHEBSLKIY</td>\n",
       "      <td>6.768137e+18</td>\n",
       "      <td>NaN</td>\n",
       "      <td>3.072849e+18</td>\n",
       "      <td>2733035977666442898</td>\n",
       "      <td>NaN</td>\n",
       "      <td>1.563</td>\n",
       "      <td>0.905</td>\n",
       "      <td>0.078</td>\n",
       "      <td>1891515180541284343</td>\n",
       "      <td>1904083516767779093</td>\n",
       "    </tr>\n",
       "    <tr>\n",
       "      <th>1</th>\n",
       "      <td>0</td>\n",
       "      <td>NaN</td>\n",
       "      <td>0</td>\n",
       "      <td>2019-03-08T10:24:30.641Z</td>\n",
       "      <td>6333597102633388268</td>\n",
       "      <td>1.218924</td>\n",
       "      <td>1.071209</td>\n",
       "      <td>False</td>\n",
       "      <td>4.0</td>\n",
       "      <td>MMHTOJ6qKAOeIH_Eywh1KIcCaxtO9oM</td>\n",
       "      <td>3.025219e+18</td>\n",
       "      <td>NaN</td>\n",
       "      <td>1.774085e+18</td>\n",
       "      <td>392184377613098015</td>\n",
       "      <td>NaN</td>\n",
       "      <td>NaN</td>\n",
       "      <td>NaN</td>\n",
       "      <td>NaN</td>\n",
       "      <td>1891515180541284343</td>\n",
       "      <td>3086509764961796666</td>\n",
       "    </tr>\n",
       "    <tr>\n",
       "      <th>2</th>\n",
       "      <td>0</td>\n",
       "      <td>NaN</td>\n",
       "      <td>0</td>\n",
       "      <td>2019-03-08T15:24:16.069Z</td>\n",
       "      <td>6333597102633388268</td>\n",
       "      <td>1.205689</td>\n",
       "      <td>1.070234</td>\n",
       "      <td>False</td>\n",
       "      <td>6.0</td>\n",
       "      <td>vIrEIdf9izUaWdAri6Ezk7T3nHFvNQU</td>\n",
       "      <td>5.975656e+18</td>\n",
       "      <td>NaN</td>\n",
       "      <td>3.072849e+18</td>\n",
       "      <td>392184377613098015</td>\n",
       "      <td>NaN</td>\n",
       "      <td>NaN</td>\n",
       "      <td>0.946</td>\n",
       "      <td>0.473</td>\n",
       "      <td>1891515180541284343</td>\n",
       "      <td>6958163894863846647</td>\n",
       "    </tr>\n",
       "    <tr>\n",
       "      <th>3</th>\n",
       "      <td>2</td>\n",
       "      <td>NaN</td>\n",
       "      <td>3</td>\n",
       "      <td>2019-03-06T03:08:51.543Z</td>\n",
       "      <td>6333597102633388268</td>\n",
       "      <td>1.205689</td>\n",
       "      <td>1.070234</td>\n",
       "      <td>False</td>\n",
       "      <td>45.0</td>\n",
       "      <td>YaKxxEAs2UmZhSpRfiCO9Zpa82B_AKM</td>\n",
       "      <td>6.768137e+18</td>\n",
       "      <td>NaN</td>\n",
       "      <td>3.072849e+18</td>\n",
       "      <td>2733035977666442898</td>\n",
       "      <td>NaN</td>\n",
       "      <td>19.013</td>\n",
       "      <td>0.035</td>\n",
       "      <td>0.431</td>\n",
       "      <td>1891515180541284343</td>\n",
       "      <td>4368617728156436525</td>\n",
       "    </tr>\n",
       "    <tr>\n",
       "      <th>4</th>\n",
       "      <td>2</td>\n",
       "      <td>NaN</td>\n",
       "      <td>3</td>\n",
       "      <td>2019-03-06T03:32:55.570Z</td>\n",
       "      <td>6333597102633388268</td>\n",
       "      <td>1.205689</td>\n",
       "      <td>1.070234</td>\n",
       "      <td>False</td>\n",
       "      <td>45.0</td>\n",
       "      <td>X5XTOcYQovkl6yadYdAD7xioVGU9jiY</td>\n",
       "      <td>6.768137e+18</td>\n",
       "      <td>NaN</td>\n",
       "      <td>3.072849e+18</td>\n",
       "      <td>2733035977666442898</td>\n",
       "      <td>NaN</td>\n",
       "      <td>28.110</td>\n",
       "      <td>0.054</td>\n",
       "      <td>0.423</td>\n",
       "      <td>1891515180541284343</td>\n",
       "      <td>4368617728156436525</td>\n",
       "    </tr>\n",
       "  </tbody>\n",
       "</table>\n",
       "</div>"
      ],
      "text/plain": [
       "   advertiser_id  action_id  source_id                   created  \\\n",
       "0              2        NaN          4  2019-03-06T22:42:12.755Z   \n",
       "1              0        NaN          0  2019-03-08T10:24:30.641Z   \n",
       "2              0        NaN          0  2019-03-08T15:24:16.069Z   \n",
       "3              2        NaN          3  2019-03-06T03:08:51.543Z   \n",
       "4              2        NaN          3  2019-03-06T03:32:55.570Z   \n",
       "\n",
       "          country_code  latitude  longitude  wifi_connection  carrier_id  \\\n",
       "0  6333597102633388268  1.205689   1.070234            False         1.0   \n",
       "1  6333597102633388268  1.218924   1.071209            False         4.0   \n",
       "2  6333597102633388268  1.205689   1.070234            False         6.0   \n",
       "3  6333597102633388268  1.205689   1.070234            False        45.0   \n",
       "4  6333597102633388268  1.205689   1.070234            False        45.0   \n",
       "\n",
       "                          trans_id      os_minor  agent_device      os_major  \\\n",
       "0  iGgClCM9exiHF4K31g94XmvHEBSLKIY  6.768137e+18           NaN  3.072849e+18   \n",
       "1  MMHTOJ6qKAOeIH_Eywh1KIcCaxtO9oM  3.025219e+18           NaN  1.774085e+18   \n",
       "2  vIrEIdf9izUaWdAri6Ezk7T3nHFvNQU  5.975656e+18           NaN  3.072849e+18   \n",
       "3  YaKxxEAs2UmZhSpRfiCO9Zpa82B_AKM  6.768137e+18           NaN  3.072849e+18   \n",
       "4  X5XTOcYQovkl6yadYdAD7xioVGU9jiY  6.768137e+18           NaN  3.072849e+18   \n",
       "\n",
       "           specs_brand  brand  timeToClick  touchX  touchY  \\\n",
       "0  2733035977666442898    NaN        1.563   0.905   0.078   \n",
       "1   392184377613098015    NaN          NaN     NaN     NaN   \n",
       "2   392184377613098015    NaN          NaN   0.946   0.473   \n",
       "3  2733035977666442898    NaN       19.013   0.035   0.431   \n",
       "4  2733035977666442898    NaN       28.110   0.054   0.423   \n",
       "\n",
       "              ref_type             ref_hash  \n",
       "0  1891515180541284343  1904083516767779093  \n",
       "1  1891515180541284343  3086509764961796666  \n",
       "2  1891515180541284343  6958163894863846647  \n",
       "3  1891515180541284343  4368617728156436525  \n",
       "4  1891515180541284343  4368617728156436525  "
      ]
     },
     "execution_count": 3,
     "metadata": {},
     "output_type": "execute_result"
    }
   ],
   "source": [
    "clicks.head()"
   ]
  },
  {
   "cell_type": "code",
   "execution_count": 4,
   "metadata": {},
   "outputs": [
    {
     "data": {
      "text/plain": [
       "Index(['advertiser_id', 'action_id', 'source_id', 'created', 'country_code',\n",
       "       'latitude', 'longitude', 'wifi_connection', 'carrier_id', 'trans_id',\n",
       "       'os_minor', 'agent_device', 'os_major', 'specs_brand', 'brand',\n",
       "       'timeToClick', 'touchX', 'touchY', 'ref_type', 'ref_hash'],\n",
       "      dtype='object')"
      ]
     },
     "execution_count": 4,
     "metadata": {},
     "output_type": "execute_result"
    }
   ],
   "source": [
    "clicks.columns"
   ]
  },
  {
   "cell_type": "code",
   "execution_count": 5,
   "metadata": {},
   "outputs": [
    {
     "data": {
      "text/plain": [
       "advertiser_id        int64\n",
       "action_id          float64\n",
       "source_id            int64\n",
       "created             object\n",
       "country_code         int64\n",
       "latitude           float64\n",
       "longitude          float64\n",
       "wifi_connection       bool\n",
       "carrier_id         float64\n",
       "trans_id            object\n",
       "os_minor           float64\n",
       "agent_device       float64\n",
       "os_major           float64\n",
       "specs_brand          int64\n",
       "brand              float64\n",
       "timeToClick        float64\n",
       "touchX             float64\n",
       "touchY             float64\n",
       "ref_type             int64\n",
       "ref_hash             int64\n",
       "dtype: object"
      ]
     },
     "execution_count": 5,
     "metadata": {},
     "output_type": "execute_result"
    }
   ],
   "source": [
    "clicks.dtypes"
   ]
  },
  {
   "cell_type": "code",
   "execution_count": 6,
   "metadata": {},
   "outputs": [
    {
     "data": {
      "text/plain": [
       "0    2019-03-06T22:42:12.755Z\n",
       "1    2019-03-08T10:24:30.641Z\n",
       "2    2019-03-08T15:24:16.069Z\n",
       "3    2019-03-06T03:08:51.543Z\n",
       "4    2019-03-06T03:32:55.570Z\n",
       "Name: created, dtype: object"
      ]
     },
     "execution_count": 6,
     "metadata": {},
     "output_type": "execute_result"
    }
   ],
   "source": [
    "clicks['created'].head()"
   ]
  },
  {
   "cell_type": "code",
   "execution_count": 7,
   "metadata": {},
   "outputs": [],
   "source": [
    "clicks['created'] = pd.to_datetime(clicks['created'])"
   ]
  },
  {
   "cell_type": "code",
   "execution_count": 34,
   "metadata": {},
   "outputs": [],
   "source": [
    "clicks['ref_type'] = clicks['ref_type'].astype('category')"
   ]
  },
  {
   "cell_type": "code",
   "execution_count": 33,
   "metadata": {},
   "outputs": [],
   "source": [
    "clicks['touchX'] = clicks['touchX'].astype('float16')\n",
    "clicks['touchY'] = clicks['touchY'].astype('float16')"
   ]
  },
  {
   "cell_type": "code",
   "execution_count": 30,
   "metadata": {},
   "outputs": [],
   "source": [
    "clicks['timeToClick'] = clicks['timeToClick'].astype('float16')"
   ]
  },
  {
   "cell_type": "code",
   "execution_count": 28,
   "metadata": {},
   "outputs": [
    {
     "data": {
      "text/plain": [
       "20116"
      ]
     },
     "execution_count": 28,
     "metadata": {},
     "output_type": "execute_result"
    }
   ],
   "source": [
    "clicks['brand'].isnull().sum()"
   ]
  },
  {
   "cell_type": "code",
   "execution_count": 24,
   "metadata": {},
   "outputs": [
    {
     "data": {
      "text/plain": [
       "2.0     2027\n",
       "0.0     1917\n",
       "1.0     1521\n",
       "4.0      240\n",
       "3.0      186\n",
       "5.0      129\n",
       "6.0      124\n",
       "7.0       32\n",
       "9.0       31\n",
       "8.0       16\n",
       "10.0       8\n",
       "12.0       3\n",
       "13.0       1\n",
       "Name: brand, dtype: int64"
      ]
     },
     "execution_count": 24,
     "metadata": {},
     "output_type": "execute_result"
    }
   ],
   "source": [
    "clicks['brand'].value_counts()"
   ]
  },
  {
   "cell_type": "code",
   "execution_count": 26,
   "metadata": {},
   "outputs": [],
   "source": [
    "# Que se tiene que hacer ya que brand posee NaN, porque Marca tiene como un puntaje? que significa?\n",
    "#clicks['brand'] = clicks['brand'].astyoe('int8')"
   ]
  },
  {
   "cell_type": "code",
   "execution_count": 21,
   "metadata": {},
   "outputs": [
    {
     "data": {
      "text/plain": [
       "392184377613098015     16172\n",
       "2733035977666442898    10164\n",
       "8930605132947907029       10\n",
       "3855167788531275156        4\n",
       "5675295985273558497        1\n",
       "Name: specs_brand, dtype: int64"
      ]
     },
     "execution_count": 21,
     "metadata": {},
     "output_type": "execute_result"
    }
   ],
   "source": [
    "clicks['specs_brand'].value_counts()"
   ]
  },
  {
   "cell_type": "code",
   "execution_count": 22,
   "metadata": {},
   "outputs": [],
   "source": [
    "clicks['specs_brand'] = clicks['specs_brand'].astype('category')"
   ]
  },
  {
   "cell_type": "code",
   "execution_count": 8,
   "metadata": {},
   "outputs": [],
   "source": [
    "clicks['country_code'] = clicks['country_code'].astype('category')"
   ]
  },
  {
   "cell_type": "code",
   "execution_count": 19,
   "metadata": {},
   "outputs": [],
   "source": [
    "clicks['os_major'] = clicks['os_major'].astype('float16')"
   ]
  },
  {
   "cell_type": "code",
   "execution_count": 9,
   "metadata": {},
   "outputs": [],
   "source": [
    "clicks['os_minor'] = clicks['os_minor'].astype('float16')"
   ]
  },
  {
   "cell_type": "code",
   "execution_count": 10,
   "metadata": {},
   "outputs": [],
   "source": [
    "clicks['agent_device'] = clicks['agent_device'].astype('float16')"
   ]
  },
  {
   "cell_type": "markdown",
   "metadata": {},
   "source": [
    "Considero que el id -1 es que no posee id, esto es para poder asignarle el tipo de dato a int16"
   ]
  },
  {
   "cell_type": "code",
   "execution_count": 13,
   "metadata": {},
   "outputs": [],
   "source": [
    "clicks['carrier_id'].fillna(value=-1,inplace=True)"
   ]
  },
  {
   "cell_type": "code",
   "execution_count": 14,
   "metadata": {},
   "outputs": [
    {
     "data": {
      "text/plain": [
       "False"
      ]
     },
     "execution_count": 14,
     "metadata": {},
     "output_type": "execute_result"
    }
   ],
   "source": [
    "clicks['carrier_id'].isnull().any()"
   ]
  },
  {
   "cell_type": "code",
   "execution_count": 15,
   "metadata": {},
   "outputs": [],
   "source": [
    "clicks['carrier_id'] = clicks['carrier_id'].astype('int16')"
   ]
  },
  {
   "cell_type": "code",
   "execution_count": 16,
   "metadata": {},
   "outputs": [
    {
     "data": {
      "text/plain": [
       "3    26263\n",
       "0       70\n",
       "2       12\n",
       "7        2\n",
       "1        2\n",
       "8        1\n",
       "5        1\n",
       "Name: advertiser_id, dtype: int64"
      ]
     },
     "execution_count": 16,
     "metadata": {},
     "output_type": "execute_result"
    }
   ],
   "source": [
    "clicks['advertiser_id'].value_counts()"
   ]
  },
  {
   "cell_type": "code",
   "execution_count": 17,
   "metadata": {},
   "outputs": [],
   "source": [
    "clicks['advertiser_id'] = clicks['advertiser_id'].astype('int8')"
   ]
  },
  {
   "cell_type": "code",
   "execution_count": 18,
   "metadata": {},
   "outputs": [
    {
     "data": {
      "text/plain": [
       "0     17009\n",
       "1      4298\n",
       "6      3371\n",
       "5      1628\n",
       "2        27\n",
       "3         9\n",
       "10        3\n",
       "7         2\n",
       "4         2\n",
       "9         1\n",
       "8         1\n",
       "Name: source_id, dtype: int64"
      ]
     },
     "execution_count": 18,
     "metadata": {},
     "output_type": "execute_result"
    }
   ],
   "source": [
    "clicks['source_id'].value_counts()"
   ]
  },
  {
   "cell_type": "code",
   "execution_count": 14,
   "metadata": {},
   "outputs": [],
   "source": [
    "clicks['source_id'] = clicks['source_id'].astype('int8')"
   ]
  },
  {
   "cell_type": "code",
   "execution_count": null,
   "metadata": {},
   "outputs": [],
   "source": []
  },
  {
   "cell_type": "code",
   "execution_count": 35,
   "metadata": {},
   "outputs": [
    {
     "data": {
      "text/plain": [
       "advertiser_id                     int8\n",
       "action_id                      float64\n",
       "source_id                        int64\n",
       "created            datetime64[ns, UTC]\n",
       "country_code                  category\n",
       "latitude                       float64\n",
       "longitude                      float64\n",
       "wifi_connection                   bool\n",
       "carrier_id                       int16\n",
       "trans_id                        object\n",
       "os_minor                       float16\n",
       "agent_device                   float16\n",
       "os_major                       float16\n",
       "specs_brand                   category\n",
       "brand                          float64\n",
       "timeToClick                    float16\n",
       "touchX                         float16\n",
       "touchY                         float16\n",
       "ref_type                      category\n",
       "ref_hash                         int64\n",
       "dtype: object"
      ]
     },
     "execution_count": 35,
     "metadata": {},
     "output_type": "execute_result"
    }
   ],
   "source": [
    "clicks.dtypes"
   ]
  },
  {
   "cell_type": "code",
   "execution_count": null,
   "metadata": {},
   "outputs": [],
   "source": []
  },
  {
   "cell_type": "markdown",
   "metadata": {},
   "source": [
    "Revisar que hacer con esta columna entera NaN --> Borrar ya que no se tiene nada de informacion y no se puede generar "
   ]
  },
  {
   "cell_type": "code",
   "execution_count": 9,
   "metadata": {},
   "outputs": [
    {
     "data": {
      "text/plain": [
       "Series([], Name: action_id, dtype: int64)"
      ]
     },
     "execution_count": 9,
     "metadata": {},
     "output_type": "execute_result"
    }
   ],
   "source": [
    "clicks['action_id'].value_counts()"
   ]
  },
  {
   "cell_type": "code",
   "execution_count": null,
   "metadata": {},
   "outputs": [],
   "source": []
  },
  {
   "cell_type": "code",
   "execution_count": null,
   "metadata": {},
   "outputs": [],
   "source": []
  },
  {
   "cell_type": "code",
   "execution_count": null,
   "metadata": {},
   "outputs": [],
   "source": []
  },
  {
   "cell_type": "code",
   "execution_count": null,
   "metadata": {},
   "outputs": [],
   "source": []
  },
  {
   "cell_type": "code",
   "execution_count": null,
   "metadata": {},
   "outputs": [],
   "source": []
  },
  {
   "cell_type": "markdown",
   "metadata": {},
   "source": [
    "Para ejecutarlo en otro notebook\n",
    "\n",
    "    %run Limpieza_Clicks.ipynb\n"
   ]
  }
 ],
 "metadata": {
  "kernelspec": {
   "display_name": "Python 3",
   "language": "python",
   "name": "python3"
  },
  "language_info": {
   "codemirror_mode": {
    "name": "ipython",
    "version": 3
   },
   "file_extension": ".py",
   "mimetype": "text/x-python",
   "name": "python",
   "nbconvert_exporter": "python",
   "pygments_lexer": "ipython3",
   "version": "3.7.1"
  }
 },
 "nbformat": 4,
 "nbformat_minor": 2
}
